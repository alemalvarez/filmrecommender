{
 "cells": [
  {
   "cell_type": "markdown",
   "metadata": {},
   "source": [
    "# Content-Based Filtering based on Deep Learning: Movie Recommender System\n"
   ]
  },
  {
   "cell_type": "code",
   "execution_count": 1,
   "metadata": {},
   "outputs": [],
   "source": [
    "# Libraries\n",
    "import numpy as numpy\n",
    "import pandas as pd\n",
    "import tensorflow as tf \n",
    "from sklearn.preprocessing import StandardScaler\n",
    "from sklearn.model_selection import train_test_split"
   ]
  },
  {
   "cell_type": "markdown",
   "metadata": {},
   "source": [
    "## Where's the data from?\n",
    "As in the original lab, the dataset is [MovieLens ml-latest-small](https://grouplens.org/datasets/movielens/latest/). \n",
    "As quoted: \n",
    ">This dataset (ml-latest-small) describes 5-star rating and free-text tagging activity from MovieLens, a movie recommendation service. It contains 100836 ratings and 3683 tag applications across 9742 movies. These data were created by 610 users between March 29, 1996 and September 24, 2018. This dataset was generated on September 26, 2018.\n",
    "\n",
    "For more info, check **./MovieLens/README.txt**"
   ]
  },
  {
   "cell_type": "code",
   "execution_count": 14,
   "metadata": {},
   "outputs": [
    {
     "name": "stdout",
     "output_type": "stream",
     "text": [
      "Movies dataframe shape: (9742, 3) Ratings shape: (100836, 4)\n"
     ]
    }
   ],
   "source": [
    "# Let's pull some movie stats!\n",
    "movies_df = pd.read_csv('./MovieLens/movies.csv')\n",
    "ratings_df = pd.read_csv('./MovieLens/ratings.csv')\n",
    "\n",
    "print(f\"Movies dataframe shape: {movies_df.shape} Ratings shape: {ratings_df.shape}\")"
   ]
  },
  {
   "cell_type": "code",
   "execution_count": 28,
   "metadata": {},
   "outputs": [
    {
     "data": {
      "text/html": [
       "<div>\n",
       "<style scoped>\n",
       "    .dataframe tbody tr th:only-of-type {\n",
       "        vertical-align: middle;\n",
       "    }\n",
       "\n",
       "    .dataframe tbody tr th {\n",
       "        vertical-align: top;\n",
       "    }\n",
       "\n",
       "    .dataframe thead th {\n",
       "        text-align: right;\n",
       "    }\n",
       "</style>\n",
       "<table border=\"1\" class=\"dataframe\">\n",
       "  <thead>\n",
       "    <tr style=\"text-align: right;\">\n",
       "      <th></th>\n",
       "      <th>title</th>\n",
       "      <th>rating_count</th>\n",
       "      <th>average_rating</th>\n",
       "    </tr>\n",
       "  </thead>\n",
       "  <tbody>\n",
       "    <tr>\n",
       "      <th>3164</th>\n",
       "      <td>Forrest Gump (1994)</td>\n",
       "      <td>329</td>\n",
       "      <td>4.164134</td>\n",
       "    </tr>\n",
       "    <tr>\n",
       "      <th>7609</th>\n",
       "      <td>Shawshank Redemption, The (1994)</td>\n",
       "      <td>317</td>\n",
       "      <td>4.429022</td>\n",
       "    </tr>\n",
       "    <tr>\n",
       "      <th>6878</th>\n",
       "      <td>Pulp Fiction (1994)</td>\n",
       "      <td>307</td>\n",
       "      <td>4.197068</td>\n",
       "    </tr>\n",
       "    <tr>\n",
       "      <th>7696</th>\n",
       "      <td>Silence of the Lambs, The (1991)</td>\n",
       "      <td>279</td>\n",
       "      <td>4.161290</td>\n",
       "    </tr>\n",
       "    <tr>\n",
       "      <th>5521</th>\n",
       "      <td>Matrix, The (1999)</td>\n",
       "      <td>278</td>\n",
       "      <td>4.192446</td>\n",
       "    </tr>\n",
       "  </tbody>\n",
       "</table>\n",
       "</div>"
      ],
      "text/plain": [
       "                                 title  rating_count  average_rating\n",
       "3164               Forrest Gump (1994)           329        4.164134\n",
       "7609  Shawshank Redemption, The (1994)           317        4.429022\n",
       "6878               Pulp Fiction (1994)           307        4.197068\n",
       "7696  Silence of the Lambs, The (1991)           279        4.161290\n",
       "5521                Matrix, The (1999)           278        4.192446"
      ]
     },
     "execution_count": 28,
     "metadata": {},
     "output_type": "execute_result"
    }
   ],
   "source": [
    "# Merge the DataFrames on movie ID, adding the name of the movie to each rating\n",
    "merged_df = pd.merge(movies_df, ratings_df, on='movieId', how='left')\n",
    "\n",
    "# Group by movie title and calculate rating count and average rating\n",
    "movie_stats = merged_df.groupby('title').agg({'rating': ['count', 'mean']})\n",
    "movie_stats.columns = ['rating_count', 'average_rating']\n",
    "\n",
    "# Top 5 movies by number of ratings. Really nice movies btw.\n",
    "movie_stats.reset_index().sort_values(by='rating_count', ascending=False).head(5)"
   ]
  },
  {
   "cell_type": "markdown",
   "metadata": {},
   "source": [
    "## Which features do we have?\n",
    "**Movie features:** by now, year released, one-hot encoded genre and average rating.<br>\n",
    "TODO: Think of new interesting features! Duration, country, budget... <br>\n",
    "**User features:** per genre average. <br>\n",
    "TODO: Add rating count and rating average, per-country average and so on. There's a lot of feature engineering to be done here... <br>\n",
    "\n",
    "## How will we structure the model training?\n",
    "We will use a data structure based on three dataframes, one containing information about the users, one containing information about the movies and one containing the ratings. <br>\n",
    "For example, if entry #99 of each dataframe is: <br>\n",
    "|Index  |Movie  |User   |Y |\n",
    "| ---   |   --- | ---   |---|\n",
    "|99     |Shrek 2|#793   |3.5|\n",
    "\n",
    "That would mean that User 793 rated 'Shrek 2' 3.5 stars.\n"
   ]
  },
  {
   "cell_type": "code",
   "execution_count": null,
   "metadata": {},
   "outputs": [],
   "source": []
  },
  {
   "cell_type": "markdown",
   "metadata": {},
   "source": []
  },
  {
   "cell_type": "markdown",
   "metadata": {},
   "source": [
    "_Based on the Machine Learning Specialization lab. Thanks to Stanford Online, Coursera, and DeepLearningAI. It's been really fun!_"
   ]
  }
 ],
 "metadata": {
  "kernelspec": {
   "display_name": "Python 3",
   "language": "python",
   "name": "python3"
  },
  "language_info": {
   "codemirror_mode": {
    "name": "ipython",
    "version": 3
   },
   "file_extension": ".py",
   "mimetype": "text/x-python",
   "name": "python",
   "nbconvert_exporter": "python",
   "pygments_lexer": "ipython3",
   "version": "3.11.5"
  },
  "orig_nbformat": 4
 },
 "nbformat": 4,
 "nbformat_minor": 2
}
